{
 "cells": [
  {
   "cell_type": "markdown",
   "id": "60c53edc-1445-4778-b01f-018cdbbe6616",
   "metadata": {},
   "source": [
    "# Image classifier using CNN"
   ]
  },
  {
   "cell_type": "markdown",
   "id": "63ee50d8-fe27-4927-8b11-f2ff1cd22ec2",
   "metadata": {},
   "source": [
    "We will clasify numbers from MNIST dataset using CNN"
   ]
  },
  {
   "cell_type": "markdown",
   "id": "dcb1b669-a1bd-4250-aa60-2a21e03c3a3e",
   "metadata": {},
   "source": [
    "## Load data"
   ]
  },
  {
   "cell_type": "code",
   "execution_count": 4,
   "id": "7b38a7d6-e630-4f59-8334-ba6e9d2d9898",
   "metadata": {},
   "outputs": [],
   "source": [
    "import numpy as np\n",
    "from keras.datasets import mnist\n",
    "from keras import backend as K\n",
    "\n",
    "# Make the color channel value first\n",
    "K.set_image_data_format(\"channels_first\")\n",
    "# Make the value of the color channel the first to set the initial value for the RNG\n",
    "np.random.seed(0)\n",
    "\n",
    "# Download data and target from MNIST dataset of handwritten digits\n",
    "(data_train, target_train), (data_test, target_test) = mnist.load_data()"
   ]
  },
  {
   "cell_type": "markdown",
   "id": "55e1616f-2c9e-440a-81f0-bf85391dba02",
   "metadata": {},
   "source": [
    "## Reshapes the training and testing image data, scales pixel intensities to a range of 0 to 1, and converts the target labels into one-hot encoding for multi-class classification."
   ]
  },
  {
   "cell_type": "code",
   "execution_count": 6,
   "id": "1399182a-8ecc-4d5e-8b7b-1214830718e9",
   "metadata": {},
   "outputs": [],
   "source": [
    "from keras.models import Sequential\n",
    "from keras.layers import Dense, Dropout, Flatten, Conv2D, MaxPooling2D, Input\n",
    "from tensorflow.keras.utils import to_categorical  # Corrected import\n",
    "\n",
    "\n",
    "channels = 1\n",
    "height = 28\n",
    "width = 28\n",
    "\n",
    "# Reform the training data about images into features\n",
    "data_train = data_train.reshape(data_train.shape[0], channels, height, width)\n",
    "# Reform the test data about images into features\n",
    "data_test = data_test.reshape(data_test.shape[0], channels, height, width)\n",
    "# Calibrate the pixel intensity to a range between 0 and 1\n",
    "features_train = data_train/255\n",
    "features_test = data_test /255\n",
    "# One-hot encoding\n",
    "target_train = to_categorical(target_train)\n",
    "target_test = to_categorical(target_test)\n",
    "number_of_classes = target_test.shape[1]\n"
   ]
  },
  {
   "cell_type": "markdown",
   "id": "c70dfaea-5685-4dff-9c52-39014b49d8df",
   "metadata": {},
   "source": [
    "## Defines a CNN with convolutional, max-pooling, dropout, and fully connected layers, followed by a softmax output layer for multi-class classification. It uses categorical cross-entropy loss and RMSProp optimizer, with accuracy as the metric."
   ]
  },
  {
   "cell_type": "code",
   "execution_count": 8,
   "id": "c62e3227-2098-47b6-a1ab-93509205fcb8",
   "metadata": {},
   "outputs": [],
   "source": [
    "# Initialize the neural network\n",
    "network = Sequential()\n",
    "# Add input layer specifying the input shape\n",
    "network.add(Input(shape=(channels, height, width)))  # Specify input shape as the first layer\n",
    "# Add a convolutional layer with 64 filters, 5x5 kernel size, and ReLU activation function\n",
    "network.add(Conv2D(filters=64,\n",
    "                   kernel_size=(5, 5),\n",
    "                   activation='relu'))\n",
    "# Add a max-pooling layer with 2x2 window\n",
    "network.add(MaxPooling2D(pool_size=(2, 2)))\n",
    "# Add a dropout layer\n",
    "network.add(Dropout(0.5))\n",
    "# Add a flatten layer to flatten the input\n",
    "network.add(Flatten())\n",
    "# Add a fully connected layer with 128 units and ReLU activation function\n",
    "network.add(Dense(128, activation=\"relu\"))\n",
    "# Add a dropout layer\n",
    "network.add(Dropout(0.5))\n",
    "# Add a fully connected layer with softmax activation function\n",
    "network.add(Dense(number_of_classes, activation=\"softmax\"))\n",
    "# Compile the neural network\n",
    "network.compile(\n",
    "    loss=\"categorical_crossentropy\",  # Cross-entropy loss\n",
    "    optimizer=\"rmsprop\",  # RMSProp optimizer\n",
    "    metrics=[\"accuracy\"]  # Accuracy metric\n",
    ")\n",
    "\n"
   ]
  },
  {
   "cell_type": "markdown",
   "id": "34fc3036-cf4b-4896-ad1b-31fecefabc0a",
   "metadata": {},
   "source": [
    "## Train the CNN"
   ]
  },
  {
   "cell_type": "code",
   "execution_count": 10,
   "id": "e37b9adc-7117-4000-be42-0657b00e40f5",
   "metadata": {},
   "outputs": [
    {
     "name": "stdout",
     "output_type": "stream",
     "text": [
      "Epoch 1/2\n",
      "\u001b[1m60/60\u001b[0m \u001b[32m━━━━━━━━━━━━━━━━━━━━\u001b[0m\u001b[37m\u001b[0m \u001b[1m382s\u001b[0m 6s/step - accuracy: 0.6568 - loss: 1.0801 - val_accuracy: 0.9485 - val_loss: 0.1826\n",
      "Epoch 2/2\n",
      "\u001b[1m60/60\u001b[0m \u001b[32m━━━━━━━━━━━━━━━━━━━━\u001b[0m\u001b[37m\u001b[0m \u001b[1m371s\u001b[0m 6s/step - accuracy: 0.9296 - loss: 0.2334 - val_accuracy: 0.9726 - val_loss: 0.0951\n"
     ]
    },
    {
     "data": {
      "text/plain": [
       "<keras.src.callbacks.history.History at 0x25573845e50>"
      ]
     },
     "execution_count": 10,
     "metadata": {},
     "output_type": "execute_result"
    }
   ],
   "source": [
    "network.fit(\n",
    "    features_train,  # Features\n",
    "    target_train,  # Target\n",
    "    epochs=2,  # Number of epochs\n",
    "    verbose=1,  # Do not print description after each epoch\n",
    "    batch_size=1000,  # Number of observations per batch\n",
    "    validation_data=(features_test, target_test)  # Evaluation data\n",
    ")\n"
   ]
  },
  {
   "cell_type": "code",
   "execution_count": null,
   "id": "e7adacad-6285-447a-b999-171b08296ccc",
   "metadata": {},
   "outputs": [],
   "source": []
  }
 ],
 "metadata": {
  "kernelspec": {
   "display_name": "Python 3 (ipykernel)",
   "language": "python",
   "name": "python3"
  },
  "language_info": {
   "codemirror_mode": {
    "name": "ipython",
    "version": 3
   },
   "file_extension": ".py",
   "mimetype": "text/x-python",
   "name": "python",
   "nbconvert_exporter": "python",
   "pygments_lexer": "ipython3",
   "version": "3.12.7"
  }
 },
 "nbformat": 4,
 "nbformat_minor": 5
}
